{
 "cells": [
  {
   "cell_type": "markdown",
   "metadata": {},
   "source": []
  },
  {
   "cell_type": "code",
   "execution_count": 6,
   "metadata": {
    "ExecuteTime": {
     "end_time": "2019-12-21T07:57:34.515728Z",
     "start_time": "2019-12-21T07:57:34.511123Z"
    }
   },
   "outputs": [],
   "source": [
    "from PIL import Image\n",
    "import pytesseract\n",
    "import glob # to get file path"
   ]
  },
  {
   "cell_type": "code",
   "execution_count": 5,
   "metadata": {
    "ExecuteTime": {
     "end_time": "2019-12-21T07:48:44.450028Z",
     "start_time": "2019-12-21T07:48:43.161547Z"
    }
   },
   "outputs": [
    {
     "name": "stdout",
     "output_type": "stream",
     "text": [
      "清保法第17條第1項第3款規定授權\n",
      "申崗主管機關 ,於預付型交易得要求企\n",
      "業經營者給出履約擔保。透過這項回復\n",
      "任意擔保機制 (同時履行抗辯權與報酬\n",
      "後付原則 ) 之規範設計,晚近已鮮有惡\n",
      "性倒閉之消費糾紛。在諸多定型化契\n",
      "約,消保法與最高法院均多許消費者得\n",
      "隨時終止繼續性、繼續供給性之消費者\n",
      "頁約,如此不僅可維護、貫微消費者意\n",
      "志下之人格保護,亦可使消費者擺脫靈\n",
      "失任意擔保狀態。\n"
     ]
    }
   ],
   "source": [
    "img = Image.open('test.png')\n",
    "text = pytesseract.image_to_string(img, lang='chi_tra')\n",
    "print(text)"
   ]
  },
  {
   "cell_type": "code",
   "execution_count": 13,
   "metadata": {
    "ExecuteTime": {
     "end_time": "2019-12-21T07:58:41.521599Z",
     "start_time": "2019-12-21T07:58:41.517221Z"
    }
   },
   "outputs": [],
   "source": [
    "filepath=glob.glob('./images/*')"
   ]
  },
  {
   "cell_type": "code",
   "execution_count": null,
   "metadata": {},
   "outputs": [],
   "source": []
  },
  {
   "cell_type": "code",
   "execution_count": null,
   "metadata": {},
   "outputs": [],
   "source": []
  },
  {
   "cell_type": "code",
   "execution_count": 22,
   "metadata": {
    "ExecuteTime": {
     "end_time": "2019-12-21T08:05:09.368673Z",
     "start_time": "2019-12-21T08:05:07.737013Z"
    }
   },
   "outputs": [
    {
     "name": "stdout",
     "output_type": "stream",
     "text": [
      "./images/test.png\n",
      "清保法第17條第1項第3款規定授權\n",
      "申崗主管機關 ,於預付型交易得要求企\n",
      "業經營者給出履約擔保。透過這項回復\n",
      "任意擔保機制 (同時履行抗辯權與報酬\n",
      "後付原則 ) 之規範設計,晚近已鮮有惡\n",
      "性倒閉之消費糾紛。在諸多定型化契\n",
      "約,消保法與最高法院均多許消費者得\n",
      "隨時終止繼續性、繼續供給性之消費者\n",
      "頁約,如此不僅可維護、貫微消費者意\n",
      "志下之人格保護,亦可使消費者擺脫靈\n",
      "失任意擔保狀態。\n",
      "./images/test2.png\n",
      "本文目的在於,盡量完整呈現消保\n",
      "法關於預付型交易之規範設計,以及清\n",
      "與民法之關聯。\n"
     ]
    }
   ],
   "source": [
    "text = \"\"\n",
    "\n",
    "for file in filepath:\n",
    "    #開啟檔案\n",
    "    print(file)\n",
    "    img = Image.open(file)\n",
    "    line = pytesseract.image_to_string(img, lang='chi_tra')\n",
    "    print(line)\n",
    "    text += file + \"\\n\"\n",
    "    text += line + \"\\n\\n\""
   ]
  },
  {
   "cell_type": "code",
   "execution_count": 26,
   "metadata": {
    "ExecuteTime": {
     "end_time": "2019-12-21T08:05:43.277724Z",
     "start_time": "2019-12-21T08:05:43.269907Z"
    }
   },
   "outputs": [
    {
     "name": "stdout",
     "output_type": "stream",
     "text": [
      "./images/test.png\n",
      "清保法第17條第1項第3款規定授權\n",
      "申崗主管機關 ,於預付型交易得要求企\n",
      "業經營者給出履約擔保。透過這項回復\n",
      "任意擔保機制 (同時履行抗辯權與報酬\n",
      "後付原則 ) 之規範設計,晚近已鮮有惡\n",
      "性倒閉之消費糾紛。在諸多定型化契\n",
      "約,消保法與最高法院均多許消費者得\n",
      "隨時終止繼續性、繼續供給性之消費者\n",
      "頁約,如此不僅可維護、貫微消費者意\n",
      "志下之人格保護,亦可使消費者擺脫靈\n",
      "失任意擔保狀態。\n",
      "\n",
      "./images/test2.png\n",
      "本文目的在於,盡量完整呈現消保\n",
      "法關於預付型交易之規範設計,以及清\n",
      "與民法之關聯。\n",
      "\n",
      "\n"
     ]
    }
   ],
   "source": [
    "f = open('./text/output.txt',\"w\")\n",
    "print(text)\n",
    "f.write(text)\n",
    "f.close()"
   ]
  },
  {
   "cell_type": "code",
   "execution_count": null,
   "metadata": {},
   "outputs": [],
   "source": []
  }
 ],
 "metadata": {
  "hide_input": false,
  "kernelspec": {
   "display_name": "Python 3",
   "language": "python",
   "name": "python3"
  },
  "language_info": {
   "codemirror_mode": {
    "name": "ipython",
    "version": 3
   },
   "file_extension": ".py",
   "mimetype": "text/x-python",
   "name": "python",
   "nbconvert_exporter": "python",
   "pygments_lexer": "ipython3",
   "version": "3.6.8"
  },
  "toc": {
   "base_numbering": 1,
   "nav_menu": {},
   "number_sections": true,
   "sideBar": true,
   "skip_h1_title": false,
   "title_cell": "Table of Contents",
   "title_sidebar": "Contents",
   "toc_cell": false,
   "toc_position": {},
   "toc_section_display": true,
   "toc_window_display": false
  },
  "varInspector": {
   "cols": {
    "lenName": 16,
    "lenType": 16,
    "lenVar": 40
   },
   "kernels_config": {
    "python": {
     "delete_cmd_postfix": "",
     "delete_cmd_prefix": "del ",
     "library": "var_list.py",
     "varRefreshCmd": "print(var_dic_list())"
    },
    "r": {
     "delete_cmd_postfix": ") ",
     "delete_cmd_prefix": "rm(",
     "library": "var_list.r",
     "varRefreshCmd": "cat(var_dic_list()) "
    }
   },
   "types_to_exclude": [
    "module",
    "function",
    "builtin_function_or_method",
    "instance",
    "_Feature"
   ],
   "window_display": true
  }
 },
 "nbformat": 4,
 "nbformat_minor": 2
}
